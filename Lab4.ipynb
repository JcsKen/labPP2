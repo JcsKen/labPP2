{
  "metadata": {
    "kernelspec": {
      "name": "python",
      "display_name": "Python (Pyodide)",
      "language": "python"
    },
    "language_info": {
      "name": ""
    }
  },
  "nbformat_minor": 5,
  "nbformat": 4,
  "cells": [
    {
      "id": "57da6f94-8a7d-427b-8153-783c8c706493",
      "cell_type": "code",
      "source": "import json\nfrom datetime import datetime, timedelta\n\nnew_date = (datetime.now() - timedelta(days=5)).strftime(\"%d\")\n\nprint(new_date)",
      "metadata": {
        "trusted": true
      },
      "outputs": [],
      "execution_count": null
    },
    {
      "id": "725ee215-f0db-4fb9-9780-c127f6c9d9ed",
      "cell_type": "code",
      "source": "import json\nfrom datetime import datetime, timedelta\n\ntoday = datetime.now().strftime(\"%Y-%m-%d\")\nyesterday = (datetime.now() - timedelta(days=1)).strftime(\"%Y-%m-%d\")\ntomorrow = (datetime.now() + timedelta(days=1)).strftime(\"%Y-%m-%d\")\n\nprint(json.dumps({\"yesterday\": yesterday, \"today\": today, \"tomorrow\": tomorrow}, indent=4))\n",
      "metadata": {
        "trusted": true
      },
      "outputs": [],
      "execution_count": null
    },
    {
      "id": "d3beadd6-9b84-4a2e-976f-899eea14ee24",
      "cell_type": "code",
      "source": "import json\nfrom datetime import datetime, timedelta\n\ncurrent_time = datetime.now().replace(microsecond=0).strftime(\"%Y-%m-%d %H:%M:%S\")\n\nprint(json.dumps({\"current_time\": current_time}, indent=4))\n\n",
      "metadata": {
        "trusted": true
      },
      "outputs": [],
      "execution_count": null
    },
    {
      "id": "b339ce2c-0a10-4689-a346-c51f3ff0ac33",
      "cell_type": "code",
      "source": "import json\nfrom datetime import datetime\n\n\ndate1 = datetime(2025, 2, 10, 12, 0, 0)\ndate2 = datetime(2025, 2, 15, 14, 30, 0)\n\n\ndiff_seconds = int((date2 - date1).total_seconds())\n\n\nprint(json.dumps({\"difference_in_seconds\": diff_seconds}, indent=4))",
      "metadata": {
        "trusted": true
      },
      "outputs": [],
      "execution_count": null
    },
    {
      "id": "982fa43e-3724-4f1e-8659-f5e7f0977603",
      "cell_type": "code",
      "source": "#math",
      "metadata": {
        "trusted": true
      },
      "outputs": [],
      "execution_count": null
    },
    {
      "id": "ad34c4ac-4e4e-4d8f-96a0-8b03ecd20102",
      "cell_type": "code",
      "source": "import math\n\ndef degrees_to_radians(degrees):\n    return degrees * (math.pi / 180)\n\n\ndegrees = float(input(\"Input degree: \"))\nradians = degrees_to_radians(degrees)\n\n\nprint(f\"Output radian: {radians:.6f}\")",
      "metadata": {
        "trusted": true
      },
      "outputs": [],
      "execution_count": null
    },
    {
      "id": "2284986f-3d7e-4a76-ab5e-076ab9db8491",
      "cell_type": "code",
      "source": "import math\ndef trapezoid_area(base1, base2, height):\n    return 0.5 * (base1 + base2) * height\n\n\nbase1 = float(input(\"Input base1: \"))\nbase2 = float(input(\"Input base2: \"))\nheight = float(input(\"Input height: \"))\narea = trapezoid_area(base1, base2, height)\n\nprint(f\"Trapezoid area: {area:.6f}\")",
      "metadata": {
        "trusted": true
      },
      "outputs": [],
      "execution_count": null
    },
    {
      "id": "08a1a8cd-84e4-4718-acda-7fbe13aebb09",
      "cell_type": "code",
      "source": "\ndef regular_polygon_area(sides, length):\n    return (sides * length ** 2) / (4 * math.tan(math.pi / sides))\n\n\nsides = int(input(\"Input number of sides: \"))\nlength = float(input(\"Input side length: \"))\npolygon_area = regular_polygon_area(sides, length)\n\n\nprint(f\"Regular polygon area: {polygon_area:.6f}\")",
      "metadata": {
        "trusted": true
      },
      "outputs": [],
      "execution_count": null
    },
    {
      "id": "ac2d4a70-4738-4a0d-9f6e-3a9a58bfcc02",
      "cell_type": "code",
      "source": "\ndef parallelogram_area(base, height):\n    return base * height\n\n\nbase = 5\nheight = 6\n\n\narea = parallelogram_area(base, height)\n\nprint(\"The area of the parallelogram is:\", area)",
      "metadata": {
        "trusted": true
      },
      "outputs": [],
      "execution_count": null
    },
    {
      "id": "6e5cc7ca-d288-477d-9ad3-793449c5ce3e",
      "cell_type": "code",
      "source": "#generators",
      "metadata": {
        "trusted": true
      },
      "outputs": [],
      "execution_count": null
    },
    {
      "id": "f34d5a0d-2005-4438-a495-7e797ef750b0",
      "cell_type": "code",
      "source": "def square_generator(n):\n    for i in range(n + 1):\n        yield i ** 2\n\n# Example usage\nN = int(input(\"Enter a number: \"))\nfor square in square_generator(N):\n    print(square, end=\" \")\n",
      "metadata": {
        "trusted": true
      },
      "outputs": [],
      "execution_count": null
    },
    {
      "id": "17cde203-6e10-4123-98c5-b199acabc20e",
      "cell_type": "code",
      "source": "def even_numbers(n):\n    for i in range(0, n + 1, 2):\n        yield i\n\n# Get input from user\nn = int(input(\"Enter a number: \"))\nprint(\",\".join(str(num) for num in even_numbers(n)))\n",
      "metadata": {
        "trusted": true
      },
      "outputs": [],
      "execution_count": null
    },
    {
      "id": "e1007fa7-743b-4807-84a9-1d56a4ab4aac",
      "cell_type": "code",
      "source": "def divisible_by_3_and_4(n):\n    for i in range(n + 1):\n        if i % 3 == 0 and i % 4 == 0:\n            yield i\n\n# Example usage\nN = int(input(\"Enter a number: \"))\nfor num in divisible_by_3_and_4(N):\n    print(num, end=\" \")\n",
      "metadata": {
        "trusted": true
      },
      "outputs": [],
      "execution_count": null
    },
    {
      "id": "65d44e0c-5f13-4636-912f-abbc37bbd943",
      "cell_type": "code",
      "source": "def squares(a, b):\n    for i in range(a, b + 1):\n        yield i ** 2\n\n# Example usage\na = int(input(\"Enter start number: \"))\nb = int(input(\"Enter end number: \"))\n\nfor square in squares(a, b):\n    print(square)\n",
      "metadata": {
        "trusted": true
      },
      "outputs": [],
      "execution_count": null
    },
    {
      "id": "471c0b9d-198f-489d-bc71-5640879eb8c8",
      "cell_type": "code",
      "source": "def countdown(n):\n    while n >= 0:\n        yield n\n        n -= 1\n\n# Example usage\nN = int(input(\"Enter a number: \"))\nfor num in countdown(N):\n    print(num, end=\" \")\n",
      "metadata": {
        "trusted": true
      },
      "outputs": [],
      "execution_count": null
    }
  ]
}
{
  "metadata": {
    "kernelspec": {
      "name": "python",
      "display_name": "Python (Pyodide)",
      "language": "python"
    },
    "language_info": {
      "codemirror_mode": {
        "name": "python",
        "version": 3
      },
      "file_extension": ".py",
      "mimetype": "text/x-python",
      "name": "python",
      "nbconvert_exporter": "python",
      "pygments_lexer": "ipython3",
      "version": "3.8"
    }
  },
  "nbformat_minor": 5,
  "nbformat": 4,
  "cells": [
    {
      "id": "d1b7908b-5549-4218-a877-a6940db36c8a",
      "cell_type": "code",
      "source": "#task 1 from classes.md\nclass StringManipulator:\n    def __init__(self):\n        self.text = \"\"\n    \n    def getString(self):\n        self.text = input(\"Enter a string: \")\n    \n    def printString(self):\n        print(self.text.upper())\n# Task 2\nclass Shape:\n    def area(self):\n        return 0\n\nclass Square(Shape):\n    def __init__(self, length):\n        self.length = length\n    \n    def area(self):\n        return self.length ** 2\n\n# Task 3\nclass Rectangle(Shape):\n    def __init__(self, length, width):\n        self.length = length\n        self.width = width\n    \n    def area(self):\n        return self.length * self.width\n\n# Task 4\nimport math\n\nclass Point:\n    def __init__(self, x, y):\n        self.x = x\n        self.y = y\n    \n    def show(self):\n        print(f\"Point({self.x}, {self.y})\")\n    \n    def move(self, new_x, new_y):\n        self.x = new_x\n        self.y = new_y\n    \n    def dist(self, other_point):\n        return math.sqrt((self.x - other_point.x) ** 2 + (self.y - other_point.y) ** 2)\n\n# Task 5\nclass Account:\n    def __init__(self, owner, balance=0):\n        self.owner = owner\n        self.balance = balance\n    \n    def deposit(self, amount):\n        self.balance += amount\n        print(f\"Deposited: {amount}. New Balance: {self.balance}\")\n    \n    def withdraw(self, amount):\n        if amount > self.balance:\n            print(\"Insufficient funds!\")\n        else:\n            self.balance -= amount\n            print(f\"Withdrawn: {amount}. New Balance: {self.balance}\")\n\n# Task 6\ndef is_prime(n):\n    if n < 2:\n        return False\n    for i in range(2, int(math.sqrt(n)) + 1):\n        if n % i == 0:\n            return False\n    return True\n\nnumbers = [10, 15, 17, 19, 23, 29, 30, 42, 43]\nprime_numbers = list(filter(lambda x: is_prime(x), numbers))\nprint(\"Prime numbers:\", prime_numbers)\n            ",
      "metadata": {
        "trusted": true
      },
      "outputs": [],
      "execution_count": 5
    },
    {
      "id": "3c30824f-92f2-4ba7-ae1d-ad4e07234318",
      "cell_type": "code",
      "source": "#functions1.md\n#Task 1\ndef grams_to_ounces(grams):\n    return 28.3495231 * grams\n\n# Task 2\ndef fahrenheit_to_celsius(fahrenheit):\n    return (5 / 9) * (fahrenheit - 32)\n\n# Task 3\ndef solve(numheads, numlegs):\n    for chickens in range(numheads + 1):\n        rabbits = numheads - chickens\n        if (chickens * 2 + rabbits * 4) == numlegs:\n            return chickens, rabbits\n    return None\n\n# Task 4: Filter prime numbers\ndef is_prime(n):\n    if n < 2:\n        return False\n    for i in range(2, int(math.sqrt(n)) + 1):\n        if n % i == 0:\n            return False\n    return True\n\ndef filter_prime(numbers):\n    return [n for n in numbers if is_prime(n)]\n\n# Task 5\ndef string_permutations(s):\n    return list(map(\"\".join, itertools.permutations(s)))\n\n# Task 6\ndef reverse_words(sentence):\n    return \" \".join(sentence.split()[::-1])\n\n# Task 7\ndef has_33(nums):\n    return any(nums[i] == nums[i+1] == 3 for i in range(len(nums) - 1))\n\n# Task 8\ndef spy_game(nums):\n    code = [0, 0, 7]\n    for num in nums:\n        if num == code[0]:\n            code.pop(0)\n        if not code:\n            return True\n    return False\n\n# Task 9\ndef sphere_volume(radius):\n    return (4/3) * math.pi * radius**3\n\n# Task 10\ndef unique_elements(lst):\n    unique_list = []\n    for elem in lst:\n        if elem not in unique_list:\n            unique_list.append(elem)\n    return unique_list\n\n# Task 11\ndef is_palindrome(word):\n    return word == word[::-1]\n\n# Task 12\ndef histogram(lst):\n    for num in lst:\n        print(\"*\" * num)\n\n# Task 13\ndef guess_number():\n    name = input(\"Hello! What is your name?\\n\")\n    print(f\"Well, {name}, I am thinking of a number between 1 and 20.\")\n    number = random.randint(1, 20)\n    guesses = 0\n    while True:\n        guess = int(input(\"Take a guess.\\n\"))\n        guesses += 1\n        if guess < number:\n            print(\"Your guess is too low.\")\n        elif guess > number:\n            print(\"Your guess is too high.\")\n        else:\n            print(f\"Good job, {name}! You guessed my number in {guesses} guesses!\")\n            break\n\n# Task 14\ndef main():\n    print(grams_to_ounces(100))\n    print(fahrenheit_to_celsius(98))\n    print(solve(35, 94))\n    print(filter_prime([10, 15, 17, 19, 23, 29, 30, 42, 43]))\n    print(string_permutations(\"abc\"))\n    print(reverse_words(\"We are ready\"))\n    print(has_33([1, 3, 3]))\n    print(spy_game([1, 2, 4, 0, 0, 7, 5]))\n    print(sphere_volume(3))\n    print(unique_elements([1, 2, 2, 3, 4, 4, 5]))\n    print(is_palindrome(\"madam\"))\n    histogram([4, 9, 7])\n    # Uncomment to play the guessing game\n    # guess_number()\n\nif __name__ == \"__main__\":\n    main()",
      "metadata": {
        "trusted": true
      },
      "outputs": [],
      "execution_count": 9
    },
    {
      "id": "e259b989-ccbf-4a64-89ad-4526790e8dde",
      "cell_type": "code",
      "source": "# Dictionary of movies\n#functions2.md\n\ndef pigga(movies):\n    \n    \n\nmovies = [\n{\n\"name\": \"Usual Suspects\", \n\"imdb\": 7.0,\n\"category\": \"Thriller\"\n},\n{\n\"name\": \"Hitman\",\n\"imdb\": 6.3,\n\"category\": \"Action\"\n},\n{\n\"name\": \"Dark Knight\",\n\"imdb\": 9.0,\n\"category\": \"Adventure\"\n},\n{\n\"name\": \"The Help\",\n\"imdb\": 8.0,\n\"category\": \"Drama\"\n},\n{\n\"name\": \"The Choice\",\n\"imdb\": 6.2,\n\"category\": \"Romance\"\n},\n{\n\"name\": \"Colonia\",\n\"imdb\": 7.4,\n\"category\": \"Romance\"\n},\n{\n\"name\": \"Love\",\n\"imdb\": 6.0,\n\"category\": \"Romance\"\n},\n{\n\"name\": \"Bride Wars\",\n\"imdb\": 5.4,\n\"category\": \"Romance\"\n},\n{\n\"name\": \"AlphaJet\",\n\"imdb\": 3.2,\n\"category\": \"War\"\n},\n{\n\"name\": \"Ringing Crime\",\n\"imdb\": 4.0,\n\"category\": \"Crime\"\n},\n{\n\"name\": \"Joking muck\",\n\"imdb\": 7.2,\n\"category\": \"Comedy\"\n},\n{\n\"name\": \"What is the name\",\n\"imdb\": 9.2,\n\"category\": \"Suspense\"\n},\n{\n\"name\": \"Detective\",\n\"imdb\": 7.0,\n\"category\": \"Suspense\"\n},\n{\n\"name\": \"Exam\",\n\"imdb\": 4.2,\n\"category\": \"Thriller\"\n},\n{\n\"name\": \"We Two\",\n\"imdb\": 7.2,\n\"category\": \"Romance\"\n}\n]\ndef is_highly_rated(movie):\n    return movie[\"imdb\"] > 5.5\n\ndef get_high_rated_movies(movie_list):\n    return [movie for movie in movie_list if movie[\"imdb\"] > 5.5]\n\ndef get_movies_by_category(movie_list, category):\n    return [movie for movie in movie_list if movie[\"category\"].lower() == category.lower()]\n\ndef average_imdb(movie_list):\n    if not movie_list:\n        return 0\n    return sum(movie[\"imdb\"] for movie in movie_list) / len(movie_list)\n\ndef average_imdb_by_category(movie_list, category):\n    category_movies = get_movies_by_category(movie_list, category)\n    return average_imdb(category_movies)\n\n# print(is_highly_rated(movies[0]))\n# print(get_high_rated_movies(movies))\n# print(get_movies_by_category(movies, \"Romance\"))\n# print(average_imdb(movies))\n# print(average_imdb_by_category(movies, \"Romance\"))\n",
      "metadata": {
        "trusted": true
      },
      "outputs": [],
      "execution_count": null
    },
    {
      "id": "2205308a-6276-422f-89a3-3699aed326b3",
      "cell_type": "code",
      "source": "",
      "metadata": {
        "trusted": true
      },
      "outputs": [],
      "execution_count": null
    }
  ]
}
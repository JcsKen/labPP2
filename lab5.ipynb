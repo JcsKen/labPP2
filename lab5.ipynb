{
  "metadata": {
    "kernelspec": {
      "name": "python",
      "display_name": "Python (Pyodide)",
      "language": "python"
    },
    "language_info": {
      "codemirror_mode": {
        "name": "python",
        "version": 3
      },
      "file_extension": ".py",
      "mimetype": "text/x-python",
      "name": "python",
      "nbconvert_exporter": "python",
      "pygments_lexer": "ipython3",
      "version": "3.8"
    }
  },
  "nbformat_minor": 5,
  "nbformat": 4,
  "cells": [
    {
      "id": "4311fa43-5c96-45df-b6a4-e64cd37416f0",
      "cell_type": "code",
      "source": "Python RegEx exercises",
      "metadata": {
        "trusted": true
      },
      "outputs": [],
      "execution_count": null
    },
    {
      "id": "84b35202-ab24-40c6-8385-e53e8a881fde",
      "cell_type": "code",
      "source": "1. Write a Python program that matches a string that has an 'a' followed by zero or more 'b''s.",
      "metadata": {
        "trusted": true
      },
      "outputs": [],
      "execution_count": null
    },
    {
      "id": "6351d1b1-70a6-44d9-b9b1-fee4cc8cce30",
      "cell_type": "code",
      "source": "import re\n\ndef match_pattern(s):\n    pattern = r'^ab*$'  \n    if re.fullmatch(pattern, s):\n        return \"Match found!\"\n    else:\n        return \"No match.\"\n",
      "metadata": {
        "trusted": true
      },
      "outputs": [],
      "execution_count": null
    },
    {
      "id": "a2c2e9c0-6451-4944-be20-77b41bafb58f",
      "cell_type": "code",
      "source": "2. Write a Python program that matches a string that has an 'a' followed by two to three 'b'.",
      "metadata": {
        "trusted": true
      },
      "outputs": [],
      "execution_count": null
    },
    {
      "id": "5e2eedec-d9d0-42a9-8af8-b5214dd43da2",
      "cell_type": "code",
      "source": "import re\n\ndef match_pattern(s):\n    pattern = r'^abb{2,3}$' \n    if re.fullmatch(pattern, s):\n        return \"Match found!\"\n    else:\n        return \"No match.\"\n\n",
      "metadata": {
        "trusted": true
      },
      "outputs": [],
      "execution_count": null
    },
    {
      "id": "a590e9d0-5711-4564-9750-e966bbff34dc",
      "cell_type": "code",
      "source": "3. Write a Python program to find sequences of lowercase letters joined with a underscore.",
      "metadata": {
        "trusted": true
      },
      "outputs": [],
      "execution_count": null
    },
    {
      "id": "fb8af9cf-2730-4a3d-b947-2dea19277c9c",
      "cell_type": "code",
      "source": "import re\n\ndef match_pattern(s):\n    pattern = r'^[a-z]+_[a-z]+$'  \n    if re.fullmatch(pattern, s):\n        return \"Match found!\"\n    else:\n        return \"No match.\"\n\n\n",
      "metadata": {
        "trusted": true
      },
      "outputs": [],
      "execution_count": 2
    },
    {
      "id": "17d9a92a-73ae-42c0-a75a-164b194e3114",
      "cell_type": "code",
      "source": "4. Write a Python program to find the sequences of one upper case letter followed by lower case letters.",
      "metadata": {
        "trusted": true
      },
      "outputs": [],
      "execution_count": null
    },
    {
      "id": "cbf190a9-714e-4fda-804e-2878f7cc0608",
      "cell_type": "code",
      "source": "import re\n\ndef match_pattern(s):\n    pattern = r'^[A-Z][a-z]+$'  \n    if re.fullmatch(pattern, s):\n        return \"Match found!\"\n    else:\n        return \"No match.\"\n\n",
      "metadata": {
        "trusted": true
      },
      "outputs": [],
      "execution_count": null
    },
    {
      "id": "cc8de7d0-2826-4ea3-83ad-c0f080656066",
      "cell_type": "code",
      "source": "5. Write a Python program that matches a string that has an 'a' followed by anything, ending in 'b'.",
      "metadata": {
        "trusted": true
      },
      "outputs": [],
      "execution_count": null
    },
    {
      "id": "8f0e8138-9537-4853-8650-0c6ba0f9181e",
      "cell_type": "code",
      "source": "import re \ndef match_pattern(s):\n    pattern = r'^a*b$'\n    if re.fullmatch(pattern, s)\n    return \"Match found!\"\nelse:\n    return \"No match.\"",
      "metadata": {
        "trusted": true
      },
      "outputs": [],
      "execution_count": null
    },
    {
      "id": "8866ebdf-852c-4ce4-8aa2-93a611681847",
      "cell_type": "code",
      "source": "6. Write a Python program to replace all occurrences of space, comma, or dot with a colon.",
      "metadata": {
        "trusted": true
      },
      "outputs": [],
      "execution_count": null
    },
    {
      "id": "6e37ee1d-ad63-40ab-92e0-aa9f368dba80",
      "cell_type": "code",
      "source": "def replace_chars(text):\n    return text.replace(\" \", \":\").replace(\",\", \":\").replace(\".\", \":\")",
      "metadata": {
        "trusted": true
      },
      "outputs": [],
      "execution_count": null
    },
    {
      "id": "1dbae277-dda5-49c2-890b-c606c1d6c7c7",
      "cell_type": "code",
      "source": "7. Write a python program to convert snake case string to camel case string.",
      "metadata": {
        "trusted": true
      },
      "outputs": [],
      "execution_count": null
    },
    {
      "id": "198057ce-1dc3-49da-a370-5cf4aaeaccb1",
      "cell_type": "code",
      "source": "import re\n\ndef replace_chars(text):\n    return text.replace(\" \", \":\").replace(\",\", \":\").replace(\".\", \":\")\n\ndef snake_to_camel(snake_str):\n    components = snake_str.split('_')\n    return components[0] + ''.join(x.title() for x in components[1:])",
      "metadata": {
        "trusted": true
      },
      "outputs": [],
      "execution_count": null
    },
    {
      "id": "7fba647c-c060-47b3-8bed-90d14c893a2c",
      "cell_type": "code",
      "source": "8. Write a Python program to split a string at uppercase letters.",
      "metadata": {
        "trusted": true
      },
      "outputs": [],
      "execution_count": null
    },
    {
      "id": "6b122d36-5402-477e-8080-7bdeedf17a95",
      "cell_type": "code",
      "source": "import re\n\ndef replace_chars(text):\n    return text.replace(\" \", \":\").replace(\",\", \":\").replace(\".\", \":\")\n\ndef snake_to_camel(snake_str):\n    components = snake_str.split('_')\n    return components[0] + ''.join(x.title() for x in components[1:])\n\ndef split_at_uppercase(text):\n    return re.findall(r'[A-Z][a-z]*', text)\n",
      "metadata": {
        "trusted": true
      },
      "outputs": [],
      "execution_count": null
    },
    {
      "id": "608ae962-8f07-46c0-9523-0d74643cc143",
      "cell_type": "code",
      "source": "9. Write a Python program to insert spaces between words starting with capital letters.",
      "metadata": {
        "trusted": true
      },
      "outputs": [],
      "execution_count": null
    },
    {
      "id": "afa9a22e-05a3-4fc0-854c-ef287a5df6f5",
      "cell_type": "code",
      "source": "import re\n\ndef replace_chars(text):\n    return text.replace(\" \", \":\").replace(\",\", \":\").replace(\".\", \":\")\n\ndef snake_to_camel(snake_str):\n    components = snake_str.split('_')\n    return components[0] + ''.join(x.title() for x in components[1:])\n\ndef split_at_uppercase(text):\n    return re.findall(r'[A-Z][a-z]*', text)\n\ndef insert_spaces(text):\n    return re.sub(r'(?<!^)(?=[A-Z])', ' ', text)\n",
      "metadata": {
        "trusted": true
      },
      "outputs": [],
      "execution_count": null
    },
    {
      "id": "2e5364e0-2bcd-4a5a-8a37-2708f6b3d9d2",
      "cell_type": "code",
      "source": "10. Write a Python program to convert a given camel case string to snake case.",
      "metadata": {
        "trusted": true
      },
      "outputs": [],
      "execution_count": null
    },
    {
      "id": "d39e5d20-ee43-4aaa-9506-b6a336bc6a7f",
      "cell_type": "code",
      "source": "import re\n\ndef replace_chars(text):\n    return text.replace(\" \", \":\").replace(\",\", \":\").replace(\".\", \":\")\n\ndef snake_to_camel(snake_str):\n    components = snake_str.split('_')\n    return components[0] + ''.join(x.title() for x in components[1:])\n\ndef split_at_uppercase(text):\n    return re.findall(r'[A-Z][a-z]*', text)\n\ndef insert_spaces(text):\n    return re.sub(r'(?<!^)(?=[A-Z])', ' ', text)\n\ndef camel_to_snake(camel_str):\n    return re.sub(r'(?<!^)(?=[A-Z])', '_', camel_str).lower()",
      "metadata": {
        "trusted": true
      },
      "outputs": [],
      "execution_count": null
    }
  ]
}
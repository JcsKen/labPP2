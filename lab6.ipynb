{
  "metadata": {
    "kernelspec": {
      "name": "python",
      "display_name": "Python (Pyodide)",
      "language": "python"
    },
    "language_info": {
      "codemirror_mode": {
        "name": "python",
        "version": 3
      },
      "file_extension": ".py",
      "mimetype": "text/x-python",
      "name": "python",
      "nbconvert_exporter": "python",
      "pygments_lexer": "ipython3",
      "version": "3.8"
    }
  },
  "nbformat_minor": 5,
  "nbformat": 4,
  "cells": [
    {
      "id": "8633da10-877a-49cc-8441-c21915b800e3",
      "cell_type": "code",
      "source": "Write a Python program with builtin function to multiply all the numbers in a list",
      "metadata": {
        "trusted": true
      },
      "outputs": [],
      "execution_count": null
    },
    {
      "id": "d3954fa3-652d-4c39-a9c2-092b030148b7",
      "cell_type": "code",
      "source": "from functools import reduce\n\ndef multiply_list(numbers):\n    return reduce(lambda x, y: x * y, numbers)\n\n\nnumbers = [2, 3, 4, 5]\nresult = multiply_list(numbers)\nprint(\"Product of all numbers:\", result)",
      "metadata": {
        "trusted": true
      },
      "outputs": [],
      "execution_count": null
    },
    {
      "id": "3e6d97d2-df07-46d0-8876-6c51ac7cc9ae",
      "cell_type": "code",
      "source": "Write a Python program with builtin function that accepts a string and calculate the number of upper case letters and lower case letters",
      "metadata": {
        "trusted": true
      },
      "outputs": [],
      "execution_count": null
    },
    {
      "id": "4a1f011f-d315-427c-bc4c-ff66fd3fad08",
      "cell_type": "code",
      "source": "def count_case(s):\n    upper_count = sum(1 for char in s if char.isupper())\n    lower_count = sum(1 for char in s if char.islower())\n    return upper_count, lower_count\n\n\ntext = \"Hello World!\"\nupper, lower = count_case(text)\nprint(\"Upper case letters:\", upper)\nprint(\"Lower case letters:\", lower)",
      "metadata": {
        "trusted": true
      },
      "outputs": [],
      "execution_count": null
    },
    {
      "id": "634e02ac-8dff-4684-8d71-41405aa3e101",
      "cell_type": "code",
      "source": "Write a Python program with builtin function that checks whether a passed string is palindrome or not.",
      "metadata": {
        "trusted": true
      },
      "outputs": [],
      "execution_count": null
    },
    {
      "id": "882217ab-cf6b-4750-8e0e-a8f9789f76b6",
      "cell_type": "code",
      "source": "def is_palindrome(s):\n    s = s.lower().replace(\" \", \"\")  \n    return s == s[::-1] \n\ntext = \"madam\"\nprint(\"Is palindrome:\", is_palindrome(text))\n",
      "metadata": {
        "trusted": true
      },
      "outputs": [],
      "execution_count": null
    },
    {
      "id": "6301de6d-c87a-4013-8cf1-25315d2395e5",
      "cell_type": "code",
      "source": "Write a Python program that invoke square root function after specific milliseconds.",
      "metadata": {
        "trusted": true
      },
      "outputs": [],
      "execution_count": null
    },
    {
      "id": "ffc4c84f-6c2e-4724-8b94-41461427847e",
      "cell_type": "code",
      "source": "import time\nimport math\n\ndef delayed_sqrt(number, milliseconds):\n    time.sleep(milliseconds / 1000)  \n    return math.sqrt(number)\n\n\nnumber = 16\nmilliseconds = 2000 \nt = time.time()\nresult = delayed_sqrt(number, milliseconds)\nprint(\"Square root:\", result)\nprint(\"Time elapsed:\", round(time.time() - t, 2), \"seconds\")",
      "metadata": {
        "trusted": true
      },
      "outputs": [],
      "execution_count": null
    },
    {
      "id": "ae2e8744-6084-4f35-a51a-b11d1888d790",
      "cell_type": "code",
      "source": "Write a Python program with builtin function that returns True if all elements of the tuple are true.",
      "metadata": {
        "trusted": true
      },
      "outputs": [],
      "execution_count": null
    },
    {
      "id": "83712a50-34fd-4168-8250-4b2480ddceb0",
      "cell_type": "code",
      "source": "def all_elements_true(t):\n    return all(t) \n\n\ntuple_data = (True, 1, \"hello\")\nprint(\"All elements are true:\", all_elements_true(tuple_data))\n",
      "metadata": {
        "trusted": true
      },
      "outputs": [
        {
          "name": "stdout",
          "output_type": "stream",
          "text": "All elements are true: True\n"
        }
      ],
      "execution_count": 1
    },
    {
      "id": "a68aab0f-7ac5-49b2-b380-dd16fba0b0c0",
      "cell_type": "code",
      "source": "#Write a Python program to list only directories, files and all directories, files in a specified path.",
      "metadata": {
        "trusted": true
      },
      "outputs": [],
      "execution_count": 3
    },
    {
      "id": "21f7e105-cd7c-45ec-a6ad-340a8b7c701f",
      "cell_type": "code",
      "source": "import os\nimport shutil\n\ndef list_directories_files(path):\n    print(\"Directories:\", [d for d in os.listdir(path) if os.path.isdir(os.path.join(path, d))])\n    print(\"Files:\", [f for f in os.listdir(path) if os.path.isfile(os.path.join(path, f))])\n    print(\"All items:\", os.listdir(path))\n",
      "metadata": {
        "trusted": true
      },
      "outputs": [],
      "execution_count": null
    },
    {
      "id": "0baaa72c-c463-4873-8a00-3a31f9d799b6",
      "cell_type": "code",
      "source": "#Write a Python program to check for access to a specified path. Test the existence, readability, writability and executability of the specified path",
      "metadata": {
        "trusted": true
      },
      "outputs": [],
      "execution_count": 4
    },
    {
      "id": "93752cbe-74e1-4fce-a00b-b4209cf4e7c5",
      "cell_type": "code",
      "source": "import os\nimport shutil\n\ndef check_path_access(path):\n    print(\"Path exists:\", os.path.exists(path))\n    print(\"Readable:\", os.access(path, os.R_OK))\n    print(\"Writable:\", os.access(path, os.W_OK))\n    print(\"Executable:\", os.access(path, os.X_OK))\n",
      "metadata": {
        "trusted": true
      },
      "outputs": [],
      "execution_count": null
    },
    {
      "id": "e9fe61ff-8f81-4bd1-8c21-9053cf681b7f",
      "cell_type": "code",
      "source": "#Write a Python program to test whether a given path exists or not. If the path exist find the filename and directory portion of the given path.",
      "metadata": {
        "trusted": true
      },
      "outputs": [],
      "execution_count": 5
    },
    {
      "id": "8348a651-9eb9-47db-ab49-0c00f6ca84b2",
      "cell_type": "code",
      "source": "import os\nimport shutil\n\ndef test_path(path):\n    if os.path.exists(path):\n        print(\"Path exists\")\n        print(\"Directory part:\", os.path.dirname(path))\n        print(\"Filename part:\", os.path.basename(path))\n    else:\n        print(\"Path does not exist\")\n",
      "metadata": {
        "trusted": true
      },
      "outputs": [],
      "execution_count": null
    },
    {
      "id": "ba9cd299-ea7e-43d0-9b3f-8136a354db0f",
      "cell_type": "code",
      "source": "#Write a Python program to count the number of lines in a text file.",
      "metadata": {
        "trusted": true
      },
      "outputs": [],
      "execution_count": 6
    },
    {
      "id": "4c98b371-87ea-40ae-a7dc-38bd25d627a0",
      "cell_type": "code",
      "source": "import os\nimport shutil\n\ndef count_lines(file_path):\n    with open(file_path, 'r') as f:\n        print(\"Number of lines:\", sum(1 for _ in f))\n",
      "metadata": {
        "trusted": true
      },
      "outputs": [],
      "execution_count": null
    },
    {
      "id": "26a3e7c8-01e8-4aac-aed0-e7fb07acba58",
      "cell_type": "code",
      "source": "#Write a Python program to write a list to a file.",
      "metadata": {
        "trusted": true
      },
      "outputs": [],
      "execution_count": 7
    },
    {
      "id": "884ccafd-8204-4b4c-a3d8-ffa1ed943963",
      "cell_type": "code",
      "source": "import os\nimport shutil\n\ndef write_list_to_file(file_path, lst):\n    with open(file_path, 'w') as f:\n        for item in lst:\n            f.write(f\"{item}\\n\")\n",
      "metadata": {
        "trusted": true
      },
      "outputs": [],
      "execution_count": null
    },
    {
      "id": "25d321df-e5ff-4449-90d6-d7d5daad9478",
      "cell_type": "code",
      "source": "#Write a Python program to generate 26 text files named A.txt, B.txt, and so on up to Z.txt",
      "metadata": {
        "trusted": true
      },
      "outputs": [],
      "execution_count": 8
    },
    {
      "id": "17e1c77e-b3c4-44a7-8aac-4ac0c7b6305a",
      "cell_type": "code",
      "source": "import os\nimport shutil\n\ndef generate_text_files():\n    for letter in range(65, 91):  \n        with open(f\"{chr(letter)}.txt\", 'w') as f:\n            f.write(f\"This is file {chr(letter)}.txt\\n\")",
      "metadata": {
        "trusted": true
      },
      "outputs": [],
      "execution_count": null
    },
    {
      "id": "38a99310-b87f-415e-9f9f-4ab7d21d6cd5",
      "cell_type": "code",
      "source": "#Write a Python program to copy the contents of a file to another file",
      "metadata": {
        "trusted": true
      },
      "outputs": [],
      "execution_count": 9
    },
    {
      "id": "f7fbda76-b0f7-4c75-8094-1b9e427870c0",
      "cell_type": "code",
      "source": "import os\nimport shutil\n\ndef copy_file(source, destination):\n    shutil.copy(source, destination)\n    print(\"File copied successfully.\")",
      "metadata": {
        "trusted": true
      },
      "outputs": [],
      "execution_count": null
    },
    {
      "id": "3cef5866-cb96-4028-9ca0-13073917818f",
      "cell_type": "code",
      "source": "#Write a Python program to delete file by specified path. Before deleting check for access and whether a given path exists or not.",
      "metadata": {
        "trusted": true
      },
      "outputs": [],
      "execution_count": 10
    },
    {
      "id": "d6d9a486-f70e-4c7d-b2f5-1d78c6e3198d",
      "cell_type": "code",
      "source": "import os\nimport shutil\n\ndef delete_file(path):\n    if os.path.exists(path) and os.access(path, os.W_OK):\n        os.remove(path)\n        print(\"File deleted successfully.\")\n    else:\n        print(\"File does not exist or cannot be deleted.\")\n",
      "metadata": {
        "trusted": true
      },
      "outputs": [],
      "execution_count": null
    }
  ]
}